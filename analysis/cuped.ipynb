{
 "cells": [
  {
   "cell_type": "code",
   "execution_count": 1,
   "metadata": {},
   "outputs": [],
   "source": [
    "from src.dgp import dgp_steps_experiment\n",
    "\n",
    "import numpy as np"
   ]
  },
  {
   "cell_type": "code",
   "execution_count": 2,
   "metadata": {},
   "outputs": [],
   "source": [
    "dgp_steps_experiment = dgp_steps_experiment(N=500, p=0.5, alpha=6000, beta=0, gamma=200, delta=500, steps_stddev=4000, seed=42, num_users=500)"
   ]
  },
  {
   "cell_type": "code",
   "execution_count": 3,
   "metadata": {},
   "outputs": [],
   "source": [
    "df = dgp_steps_experiment.generate_pre_experiment_data()"
   ]
  },
  {
   "cell_type": "code",
   "execution_count": 9,
   "metadata": {},
   "outputs": [
    {
     "data": {
      "text/plain": [
       "-343.74483731988494"
      ]
     },
     "execution_count": 9,
     "metadata": {},
     "output_type": "execute_result"
    }
   ],
   "source": [
    "min(df['y_pre'])"
   ]
  },
  {
   "cell_type": "code",
   "execution_count": 5,
   "metadata": {},
   "outputs": [
    {
     "ename": "KeyError",
     "evalue": "'y_post'",
     "output_type": "error",
     "traceback": [
      "\u001b[0;31m---------------------------------------------------------------------------\u001b[0m",
      "\u001b[0;31mKeyError\u001b[0m                                  Traceback (most recent call last)",
      "File \u001b[0;32m~/.pyenv/versions/3.8/envs/lektor/lib/python3.8/site-packages/pandas/core/indexes/base.py:3802\u001b[0m, in \u001b[0;36mIndex.get_loc\u001b[0;34m(self, key, method, tolerance)\u001b[0m\n\u001b[1;32m   3801\u001b[0m \u001b[39mtry\u001b[39;00m:\n\u001b[0;32m-> 3802\u001b[0m     \u001b[39mreturn\u001b[39;00m \u001b[39mself\u001b[39;49m\u001b[39m.\u001b[39;49m_engine\u001b[39m.\u001b[39;49mget_loc(casted_key)\n\u001b[1;32m   3803\u001b[0m \u001b[39mexcept\u001b[39;00m \u001b[39mKeyError\u001b[39;00m \u001b[39mas\u001b[39;00m err:\n",
      "File \u001b[0;32m~/.pyenv/versions/3.8/envs/lektor/lib/python3.8/site-packages/pandas/_libs/index.pyx:138\u001b[0m, in \u001b[0;36mpandas._libs.index.IndexEngine.get_loc\u001b[0;34m()\u001b[0m\n",
      "File \u001b[0;32m~/.pyenv/versions/3.8/envs/lektor/lib/python3.8/site-packages/pandas/_libs/index.pyx:165\u001b[0m, in \u001b[0;36mpandas._libs.index.IndexEngine.get_loc\u001b[0;34m()\u001b[0m\n",
      "File \u001b[0;32mpandas/_libs/hashtable_class_helper.pxi:5745\u001b[0m, in \u001b[0;36mpandas._libs.hashtable.PyObjectHashTable.get_item\u001b[0;34m()\u001b[0m\n",
      "File \u001b[0;32mpandas/_libs/hashtable_class_helper.pxi:5753\u001b[0m, in \u001b[0;36mpandas._libs.hashtable.PyObjectHashTable.get_item\u001b[0;34m()\u001b[0m\n",
      "\u001b[0;31mKeyError\u001b[0m: 'y_post'",
      "\nThe above exception was the direct cause of the following exception:\n",
      "\u001b[0;31mKeyError\u001b[0m                                  Traceback (most recent call last)",
      "Cell \u001b[0;32mIn[5], line 1\u001b[0m\n\u001b[0;32m----> 1\u001b[0m theta \u001b[39m=\u001b[39m np\u001b[39m.\u001b[39mcov(df[\u001b[39m\"\u001b[39;49m\u001b[39my_post\u001b[39;49m\u001b[39m\"\u001b[39;49m], df[\u001b[39m\"\u001b[39m\u001b[39my_pre\u001b[39m\u001b[39m\"\u001b[39m])[\u001b[39m0\u001b[39m, \u001b[39m1\u001b[39m] \u001b[39m/\u001b[39m np\u001b[39m.\u001b[39mvar(df[\u001b[39m\"\u001b[39m\u001b[39my_pre\u001b[39m\u001b[39m\"\u001b[39m])\n\u001b[1;32m      2\u001b[0m df[\u001b[39m\"\u001b[39m\u001b[39my_cuped\u001b[39m\u001b[39m\"\u001b[39m] \u001b[39m=\u001b[39m df[\u001b[39m\"\u001b[39m\u001b[39my_post\u001b[39m\u001b[39m\"\u001b[39m] \u001b[39m-\u001b[39m (df[\u001b[39m\"\u001b[39m\u001b[39my_pre\u001b[39m\u001b[39m\"\u001b[39m] \u001b[39m-\u001b[39m np\u001b[39m.\u001b[39mmean(df[\u001b[39m\"\u001b[39m\u001b[39my_pre\u001b[39m\u001b[39m\"\u001b[39m])) \u001b[39m*\u001b[39m theta\n",
      "File \u001b[0;32m~/.pyenv/versions/3.8/envs/lektor/lib/python3.8/site-packages/pandas/core/frame.py:3807\u001b[0m, in \u001b[0;36mDataFrame.__getitem__\u001b[0;34m(self, key)\u001b[0m\n\u001b[1;32m   3805\u001b[0m \u001b[39mif\u001b[39;00m \u001b[39mself\u001b[39m\u001b[39m.\u001b[39mcolumns\u001b[39m.\u001b[39mnlevels \u001b[39m>\u001b[39m \u001b[39m1\u001b[39m:\n\u001b[1;32m   3806\u001b[0m     \u001b[39mreturn\u001b[39;00m \u001b[39mself\u001b[39m\u001b[39m.\u001b[39m_getitem_multilevel(key)\n\u001b[0;32m-> 3807\u001b[0m indexer \u001b[39m=\u001b[39m \u001b[39mself\u001b[39;49m\u001b[39m.\u001b[39;49mcolumns\u001b[39m.\u001b[39;49mget_loc(key)\n\u001b[1;32m   3808\u001b[0m \u001b[39mif\u001b[39;00m is_integer(indexer):\n\u001b[1;32m   3809\u001b[0m     indexer \u001b[39m=\u001b[39m [indexer]\n",
      "File \u001b[0;32m~/.pyenv/versions/3.8/envs/lektor/lib/python3.8/site-packages/pandas/core/indexes/base.py:3804\u001b[0m, in \u001b[0;36mIndex.get_loc\u001b[0;34m(self, key, method, tolerance)\u001b[0m\n\u001b[1;32m   3802\u001b[0m     \u001b[39mreturn\u001b[39;00m \u001b[39mself\u001b[39m\u001b[39m.\u001b[39m_engine\u001b[39m.\u001b[39mget_loc(casted_key)\n\u001b[1;32m   3803\u001b[0m \u001b[39mexcept\u001b[39;00m \u001b[39mKeyError\u001b[39;00m \u001b[39mas\u001b[39;00m err:\n\u001b[0;32m-> 3804\u001b[0m     \u001b[39mraise\u001b[39;00m \u001b[39mKeyError\u001b[39;00m(key) \u001b[39mfrom\u001b[39;00m \u001b[39merr\u001b[39;00m\n\u001b[1;32m   3805\u001b[0m \u001b[39mexcept\u001b[39;00m \u001b[39mTypeError\u001b[39;00m:\n\u001b[1;32m   3806\u001b[0m     \u001b[39m# If we have a listlike key, _check_indexing_error will raise\u001b[39;00m\n\u001b[1;32m   3807\u001b[0m     \u001b[39m#  InvalidIndexError. Otherwise we fall through and re-raise\u001b[39;00m\n\u001b[1;32m   3808\u001b[0m     \u001b[39m#  the TypeError.\u001b[39;00m\n\u001b[1;32m   3809\u001b[0m     \u001b[39mself\u001b[39m\u001b[39m.\u001b[39m_check_indexing_error(key)\n",
      "\u001b[0;31mKeyError\u001b[0m: 'y_post'"
     ]
    }
   ],
   "source": [
    "theta = np.cov(df[\"y_post\"], df[\"y_pre\"])[0, 1] / np.var(df[\"y_pre\"])\n",
    "df[\"y_cuped\"] = df[\"y_post\"] - (df[\"y_pre\"] - np.mean(df[\"y_pre\"])) * theta"
   ]
  },
  {
   "cell_type": "code",
   "execution_count": 11,
   "metadata": {},
   "outputs": [
    {
     "data": {
      "text/html": [
       "<div>\n",
       "<style scoped>\n",
       "    .dataframe tbody tr th:only-of-type {\n",
       "        vertical-align: middle;\n",
       "    }\n",
       "\n",
       "    .dataframe tbody tr th {\n",
       "        vertical-align: top;\n",
       "    }\n",
       "\n",
       "    .dataframe thead th {\n",
       "        text-align: right;\n",
       "    }\n",
       "</style>\n",
       "<table border=\"1\" class=\"dataframe\">\n",
       "  <thead>\n",
       "    <tr style=\"text-align: right;\">\n",
       "      <th></th>\n",
       "      <th>i</th>\n",
       "      <th>is_treatment</th>\n",
       "      <th>y_pre</th>\n",
       "      <th>y_post</th>\n",
       "      <th>y_cuped</th>\n",
       "    </tr>\n",
       "  </thead>\n",
       "  <tbody>\n",
       "    <tr>\n",
       "      <th>0</th>\n",
       "      <td>1</td>\n",
       "      <td>0</td>\n",
       "      <td>6341.755976</td>\n",
       "      <td>7125.684161</td>\n",
       "      <td>6775.088030</td>\n",
       "    </tr>\n",
       "    <tr>\n",
       "      <th>1</th>\n",
       "      <td>2</td>\n",
       "      <td>1</td>\n",
       "      <td>7876.170839</td>\n",
       "      <td>8216.878748</td>\n",
       "      <td>6256.280355</td>\n",
       "    </tr>\n",
       "    <tr>\n",
       "      <th>2</th>\n",
       "      <td>3</td>\n",
       "      <td>1</td>\n",
       "      <td>6950.423838</td>\n",
       "      <td>8241.078669</td>\n",
       "      <td>7251.830854</td>\n",
       "    </tr>\n",
       "    <tr>\n",
       "      <th>3</th>\n",
       "      <td>4</td>\n",
       "      <td>1</td>\n",
       "      <td>5423.096344</td>\n",
       "      <td>7231.799925</td>\n",
       "      <td>7845.117869</td>\n",
       "    </tr>\n",
       "    <tr>\n",
       "      <th>4</th>\n",
       "      <td>5</td>\n",
       "      <td>0</td>\n",
       "      <td>5101.585329</td>\n",
       "      <td>6122.067510</td>\n",
       "      <td>7072.734547</td>\n",
       "    </tr>\n",
       "    <tr>\n",
       "      <th>...</th>\n",
       "      <td>...</td>\n",
       "      <td>...</td>\n",
       "      <td>...</td>\n",
       "      <td>...</td>\n",
       "      <td>...</td>\n",
       "    </tr>\n",
       "    <tr>\n",
       "      <th>495</th>\n",
       "      <td>496</td>\n",
       "      <td>0</td>\n",
       "      <td>5469.131227</td>\n",
       "      <td>5181.219819</td>\n",
       "      <td>5746.235138</td>\n",
       "    </tr>\n",
       "    <tr>\n",
       "      <th>496</th>\n",
       "      <td>497</td>\n",
       "      <td>1</td>\n",
       "      <td>5510.560557</td>\n",
       "      <td>8367.868771</td>\n",
       "      <td>8889.413894</td>\n",
       "    </tr>\n",
       "    <tr>\n",
       "      <th>497</th>\n",
       "      <td>498</td>\n",
       "      <td>0</td>\n",
       "      <td>7044.160877</td>\n",
       "      <td>6638.445954</td>\n",
       "      <td>5550.843484</td>\n",
       "    </tr>\n",
       "    <tr>\n",
       "      <th>498</th>\n",
       "      <td>499</td>\n",
       "      <td>1</td>\n",
       "      <td>6681.891490</td>\n",
       "      <td>8123.986862</td>\n",
       "      <td>7416.499671</td>\n",
       "    </tr>\n",
       "    <tr>\n",
       "      <th>499</th>\n",
       "      <td>500</td>\n",
       "      <td>1</td>\n",
       "      <td>7846.707326</td>\n",
       "      <td>8845.999906</td>\n",
       "      <td>6916.316440</td>\n",
       "    </tr>\n",
       "  </tbody>\n",
       "</table>\n",
       "<p>500 rows × 5 columns</p>\n",
       "</div>"
      ],
      "text/plain": [
       "       i  is_treatment        y_pre       y_post      y_cuped\n",
       "0      1             0  6341.755976  7125.684161  6775.088030\n",
       "1      2             1  7876.170839  8216.878748  6256.280355\n",
       "2      3             1  6950.423838  8241.078669  7251.830854\n",
       "3      4             1  5423.096344  7231.799925  7845.117869\n",
       "4      5             0  5101.585329  6122.067510  7072.734547\n",
       "..   ...           ...          ...          ...          ...\n",
       "495  496             0  5469.131227  5181.219819  5746.235138\n",
       "496  497             1  5510.560557  8367.868771  8889.413894\n",
       "497  498             0  7044.160877  6638.445954  5550.843484\n",
       "498  499             1  6681.891490  8123.986862  7416.499671\n",
       "499  500             1  7846.707326  8845.999906  6916.316440\n",
       "\n",
       "[500 rows x 5 columns]"
      ]
     },
     "execution_count": 11,
     "metadata": {},
     "output_type": "execute_result"
    }
   ],
   "source": []
  },
  {
   "cell_type": "code",
   "execution_count": 12,
   "metadata": {},
   "outputs": [
    {
     "name": "stdout",
     "output_type": "stream",
     "text": [
      "            step_count\n",
      "date                  \n",
      "2022-01-01        3247\n",
      "2022-01-02        3992\n",
      "2022-01-03        1078\n",
      "2022-01-04        4984\n",
      "2022-01-05        4003\n"
     ]
    }
   ],
   "source": [
    "import random\n",
    "import pandas as pd\n",
    "import numpy as np\n",
    "\n",
    "# Define the number of data points and the starting date\n",
    "num_points = 365\n",
    "start_date = '2022-01-01'\n",
    "\n",
    "# Generate a list of dates\n",
    "dates = pd.date_range(start_date, periods=num_points)\n",
    "\n",
    "# Simulate the step count data\n",
    "step_count = np.random.randint(low=1000, high=5000, size=num_points)\n",
    "\n",
    "# Combine the dates and step count data into a dataframe\n",
    "df = pd.DataFrame({'date': dates, 'step_count': step_count})\n",
    "\n",
    "# Set the date column as the index of the dataframe\n",
    "df = df.set_index('date')\n",
    "\n",
    "# Print the first 5 rows of the dataframe\n",
    "print(df.head())\n"
   ]
  },
  {
   "cell_type": "code",
   "execution_count": null,
   "metadata": {},
   "outputs": [],
   "source": []
  }
 ],
 "metadata": {
  "kernelspec": {
   "display_name": "lektor",
   "language": "python",
   "name": "python3"
  },
  "language_info": {
   "codemirror_mode": {
    "name": "ipython",
    "version": 3
   },
   "file_extension": ".py",
   "mimetype": "text/x-python",
   "name": "python",
   "nbconvert_exporter": "python",
   "pygments_lexer": "ipython3",
   "version": "3.8.16"
  },
  "orig_nbformat": 4,
  "vscode": {
   "interpreter": {
    "hash": "bcc4e4c3dbe611514600c46ea04790c83809fe633198a1c1c5592721645f997a"
   }
  }
 },
 "nbformat": 4,
 "nbformat_minor": 2
}
